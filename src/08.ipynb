{
  "cells": [
    {
      "cell_type": "code",
      "execution_count": null,
      "metadata": {
        "id": "C4n9-RSzkPRm"
      },
      "outputs": [],
      "source": [
        "import pandas as pd"
      ]
    },
    {
      "cell_type": "code",
      "execution_count": null,
      "metadata": {
        "id": "SxEVO7FykinS"
      },
      "outputs": [],
      "source": [
        "df = pd.read_excel('重回帰.xlsx')"
      ]
    },
    {
      "cell_type": "code",
      "execution_count": null,
      "metadata": {
        "id": "o2caJQWckk7A"
      },
      "outputs": [],
      "source": [
        "df.head()"
      ]
    },
    {
      "cell_type": "code",
      "execution_count": null,
      "metadata": {
        "id": "yE9jsSW6lMgj"
      },
      "outputs": [],
      "source": [
        "!apt-get -y install fonts-ipafont-gothic\n",
        "!pip install japanize-matplotlib\n",
        "import japanize_matplotlib\n",
        "import matplotlib.pyplot as plt\n",
        "\n",
        "# 場合によっては必要\n",
        "plt.rcParams['font.family'] = 'IPAPGothic'\n",
        "japanize_matplotlib.japanize()"
      ]
    },
    {
      "cell_type": "code",
      "execution_count": null,
      "metadata": {
        "id": "VZ-y8czpkl7z"
      },
      "outputs": [],
      "source": [
        "import pandas as pd\n",
        "import numpy as np\n",
        "from sklearn.model_selection import train_test_split\n",
        "from sklearn.preprocessing import StandardScaler\n",
        "from sklearn.linear_model import LinearRegression\n",
        "from sklearn.metrics import mean_squared_error, r2_score\n",
        "import matplotlib.pyplot as plt\n",
        "import seaborn as sns\n",
        "\n",
        "# データの読み込み\n",
        "df = pd.read_excel('重回帰.xlsx')\n",
        "\n",
        "# 特徴量とターゲット変数の選択\n",
        "X = df.drop('成約確度', axis=1)\n",
        "y = df['成約確度']\n",
        "\n",
        "# データの正規化（データを平均「0」、標準偏差「1」）\n",
        "scaler = StandardScaler()\n",
        "X_scaled = scaler.fit_transform(X)\n",
        "\n",
        "# データの分割\n",
        "X_train, X_test, y_train, y_test = train_test_split(X_scaled, y, test_size=0.2, random_state=42)\n",
        "\n",
        "# 重回帰分析モデルの構築\n",
        "model = LinearRegression()\n",
        "model.fit(X_train, y_train)\n",
        "\n",
        "# 予測\n",
        "y_pred = model.predict(X_test)\n",
        "\n",
        "# モデル評価\n",
        "mse = mean_squared_error(y_test, y_pred)\n",
        "r2 = r2_score(y_test, y_pred)\n",
        "print(f\"平均二乗誤差 (MSE): {mse}\")\n",
        "print(f\"決定係数 (R^2): {r2}\")\n",
        "\n",
        "\n",
        "# 特徴量重要度の可視化\n",
        "feature_importance = pd.DataFrame({'特徴量': X.columns, '重要度': abs(model.coef_)})\n",
        "feature_importance = feature_importance.sort_values('重要度', ascending=False)\n",
        "\n",
        "plt.figure(figsize=(10, 6))\n",
        "sns.barplot(x='重要度', y='特徴量', data=feature_importance)\n",
        "plt.title('特徴量重要度')\n",
        "plt.xlabel('重要度（絶対値）')\n",
        "plt.ylabel('特徴量')\n",
        "plt.show()"
      ]
    },
    {
      "cell_type": "code",
      "execution_count": null,
      "metadata": {
        "id": "wUQkgWpzlCBM"
      },
      "outputs": [],
      "source": [
        "# prompt: X_scaledをPandasで表示させてください！！！\n",
        "\n",
        "# X_scaledはNumPy配列なので、PandasのDataFrameに変換します。\n",
        "X_scaled_df = pd.DataFrame(X_scaled, columns=X.columns)\n",
        "\n",
        "# DataFrameを表示します。\n",
        "X_scaled_df"
      ]
    },
    {
      "cell_type": "code",
      "execution_count": null,
      "metadata": {
        "id": "kB_8h0kAlhpV"
      },
      "outputs": [],
      "source": [
        "# prompt: dfの結婚状況と最終学歴の関係を可視化してください。\n",
        "\n",
        "# 結婚状況と最終学歴のクロス集計表を作成\n",
        "cross_table = pd.crosstab(df['結婚状況'], df['最終学歴'])\n",
        "\n",
        "# ヒートマップで可視化\n",
        "plt.figure(figsize=(10, 6))\n",
        "sns.heatmap(cross_table, annot=True, fmt='d', cmap='Blues')\n",
        "plt.title('結婚状況と最終学歴の関係')\n",
        "plt.xlabel('最終学歴')\n",
        "plt.ylabel('結婚状況')\n",
        "plt.show()"
      ]
    },
    {
      "cell_type": "code",
      "execution_count": null,
      "metadata": {
        "id": "6MizcqxDZMpW"
      },
      "outputs": [],
      "source": [
        "# prompt: 年齢列を十代事にまとめて年齢層列をdfに追加してください\n",
        "\n",
        "# 年齢列を元に年齢層列を作成\n",
        "def categorize_age(age):\n",
        "    if 10 <= age < 20:\n",
        "        return '10代'\n",
        "    elif 20 <= age < 30:\n",
        "        return '20代'\n",
        "    elif 30 <= age < 40:\n",
        "        return '30代'\n",
        "    elif 40 <= age < 50:\n",
        "        return '40代'\n",
        "    elif 50 <= age < 60:\n",
        "        return '50代'\n",
        "    elif 60 <= age < 70:\n",
        "        return '60代'\n",
        "    else:\n",
        "        return 'その他'\n",
        "\n",
        "df['年齢層'] = df['年齢'].apply(categorize_age)"
      ]
    },
    {
      "cell_type": "code",
      "execution_count": null,
      "metadata": {
        "id": "1AbewcxgZZuM"
      },
      "outputs": [],
      "source": [
        "# prompt: 結婚状況と年齢層の関係を可視化してください\n",
        "\n",
        "# 結婚状況と年齢層の関係をクロス集計表で可視化\n",
        "cross_table_age = pd.crosstab(df['結婚状況'], df['年齢層'])\n",
        "\n",
        "plt.figure(figsize=(10, 6))\n",
        "sns.heatmap(cross_table_age, annot=True, fmt='d', cmap='Blues')\n",
        "plt.title('結婚状況と年齢層の関係')\n",
        "plt.xlabel('年齢層')\n",
        "plt.ylabel('結婚状況')\n",
        "plt.show()"
      ]
    },
    {
      "cell_type": "code",
      "execution_count": null,
      "metadata": {
        "id": "KKzI4jm6ZnBQ"
      },
      "outputs": [],
      "source": [
        "# prompt: 年齢層が30代、40代のデータのみを抽出してください\n",
        "\n",
        "# 30代と40代のデータのみを抽出\n",
        "df_30_40 = df[(df['年齢層'] == '30代') | (df['年齢層'] == '40代')]\n",
        "\n",
        "# 抽出されたデータを表示\n",
        "df_30_40"
      ]
    },
    {
      "cell_type": "code",
      "execution_count": null,
      "metadata": {
        "id": "Z5LzNowXZ1KR"
      },
      "outputs": [],
      "source": [
        "# prompt: df_30_40を用いて正規化を行い重回帰分析を実装し特徴重要度を可視化してください。\n",
        "# 年齢層データはドロップしてください\n",
        "\n",
        "# 年齢層列を削除\n",
        "df_30_40 = df_30_40.drop('年齢層', axis=1)\n",
        "\n",
        "# 特徴量とターゲット変数の選択\n",
        "X = df_30_40.drop('成約確度', axis=1)\n",
        "y = df_30_40['成約確度']\n",
        "\n",
        "# データの正規化\n",
        "scaler = StandardScaler()\n",
        "X_scaled = scaler.fit_transform(X)\n",
        "\n",
        "# データの分割\n",
        "X_train, X_test, y_train, y_test = train_test_split(X_scaled, y, test_size=0.2, random_state=42)\n",
        "\n",
        "# 重回帰分析モデルの構築\n",
        "model = LinearRegression()\n",
        "model.fit(X_train, y_train)\n",
        "\n",
        "# 予測\n",
        "y_pred = model.predict(X_test)\n",
        "\n",
        "# モデル評価\n",
        "mse = mean_squared_error(y_test, y_pred)\n",
        "r2 = r2_score(y_test, y_pred)\n",
        "print(f\"平均二乗誤差 (MSE): {mse}\")\n",
        "print(f\"決定係数 (R^2): {r2}\")\n",
        "\n",
        "# 特徴量重要度の可視化\n",
        "feature_importance = pd.DataFrame({'特徴量': X.columns, '重要度': abs(model.coef_)})\n",
        "feature_importance = feature_importance.sort_values('重要度', ascending=False)\n",
        "\n",
        "plt.figure(figsize=(10, 6))\n",
        "sns.barplot(x='重要度', y='特徴量', data=feature_importance)\n",
        "plt.title('特徴量重要度')\n",
        "plt.xlabel('重要度（絶対値）')\n",
        "plt.ylabel('特徴量')\n",
        "plt.show()"
      ]
    },
    {
      "cell_type": "code",
      "execution_count": null,
      "metadata": {
        "id": "8sRaDftEa8LW"
      },
      "outputs": [],
      "source": [
        "# prompt: df_30_40の結婚状況を教えて下さい\n",
        "\n",
        "# 結婚状況の値の分布を確認\n",
        "print(df_30_40['結婚状況'].value_counts())"
      ]
    },
    {
      "cell_type": "code",
      "execution_count": null,
      "metadata": {
        "id": "DqZ7GlaCbMBu"
      },
      "outputs": [],
      "source": [
        "# prompt: df_30_40から結婚状況が3のデータを抽出してください\n",
        "\n",
        "# 結婚状況が3のデータを抽出\n",
        "df_30_40_married_3 = df_30_40[df_30_40['結婚状況'] == 3]\n",
        "\n",
        "# 抽出されたデータを表示\n",
        "df_30_40_married_3"
      ]
    },
    {
      "cell_type": "code",
      "execution_count": null,
      "metadata": {
        "id": "H8OgyXVzbVFA"
      },
      "outputs": [],
      "source": [
        "# prompt: df_30_40_married_3から結婚状況をドロップし正規化を行って重回帰分析を行い、特徴重要度を可視化してください。\n",
        "\n",
        "# 結婚状況をドロップ\n",
        "df_30_40_married_3 = df_30_40_married_3.drop('結婚状況', axis=1)\n",
        "\n",
        "# 特徴量とターゲット変数の選択\n",
        "X = df_30_40_married_3.drop('成約確度', axis=1)\n",
        "y = df_30_40_married_3['成約確度']\n",
        "\n",
        "# データの正規化\n",
        "scaler = StandardScaler()\n",
        "X_scaled = scaler.fit_transform(X)\n",
        "\n",
        "# データの分割\n",
        "X_train, X_test, y_train, y_test = train_test_split(X_scaled, y, test_size=0.2, random_state=42)\n",
        "\n",
        "# 重回帰分析モデルの構築\n",
        "model = LinearRegression()\n",
        "model.fit(X_train, y_train)\n",
        "\n",
        "# 予測\n",
        "y_pred = model.predict(X_test)\n",
        "\n",
        "# モデル評価\n",
        "mse = mean_squared_error(y_test, y_pred)\n",
        "r2 = r2_score(y_test, y_pred)\n",
        "print(f\"平均二乗誤差 (MSE): {mse}\")\n",
        "print(f\"決定係数 (R^2): {r2}\")\n",
        "\n",
        "# 特徴量重要度の可視化\n",
        "feature_importance = pd.DataFrame({'特徴量': X.columns, '重要度': abs(model.coef_)})\n",
        "feature_importance = feature_importance.sort_values('重要度', ascending=False)\n",
        "\n",
        "plt.figure(figsize=(10, 6))\n",
        "sns.barplot(x='重要度', y='特徴量', data=feature_importance)\n",
        "plt.title('特徴量重要度')\n",
        "plt.xlabel('重要度（絶対値）')\n",
        "plt.ylabel('特徴量')\n",
        "plt.show()"
      ]
    },
    {
      "cell_type": "code",
      "execution_count": null,
      "metadata": {
        "id": "V0Ag5Li8bc2n"
      },
      "outputs": [],
      "source": [
        "# X_scaledはNumPy配列なので、PandasのDataFrameに変換します。\n",
        "X_scaled_df = pd.DataFrame(X_scaled, columns=X.columns)\n",
        "\n",
        "# DataFrameを表示します。\n",
        "X_scaled_df"
      ]
    },
    {
      "cell_type": "code",
      "execution_count": null,
      "metadata": {
        "id": "PXPQ7v16bpbL"
      },
      "outputs": [],
      "source": [
        "# prompt: df_30_40_married_3の銀行残高の散布図を表示してください。\n",
        "\n",
        "# 銀行残高の散布図を作成\n",
        "plt.figure(figsize=(8, 6))\n",
        "plt.scatter(df_30_40_married_3.index, df_30_40_married_3['銀行残高'])\n",
        "plt.xlabel('データポイント')\n",
        "plt.ylabel('銀行残高')\n",
        "plt.title('30代40代既婚者の銀行残高の散布図')\n",
        "plt.show()"
      ]
    },
    {
      "cell_type": "code",
      "execution_count": null,
      "metadata": {
        "id": "ZhlLiifMb3Dr"
      },
      "outputs": [],
      "source": [
        "# prompt: df_30_40_married_3の銀行残高のハズレ値を除去してください\n",
        "\n",
        "# IQRを用いた外れ値の検出と除去\n",
        "Q1 = df_30_40_married_3['銀行残高'].quantile(0.25)\n",
        "Q3 = df_30_40_married_3['銀行残高'].quantile(0.75)\n",
        "IQR = Q3 - Q1\n",
        "lower_bound = Q1 - 1.5 * IQR\n",
        "upper_bound = Q3 + 1.5 * IQR\n",
        "\n",
        "df_30_40_married_3_no_outliers = df_30_40_married_3[\n",
        "    (df_30_40_married_3['銀行残高'] >= lower_bound) &\n",
        "    (df_30_40_married_3['銀行残高'] <= upper_bound)\n",
        "]\n",
        "\n",
        "# 外れ値除去後のデータの確認\n",
        "print(df_30_40_married_3_no_outliers.describe())\n",
        "\n",
        "# 外れ値除去後の銀行残高の散布図\n",
        "plt.figure(figsize=(8, 6))\n",
        "plt.scatter(df_30_40_married_3_no_outliers.index, df_30_40_married_3_no_outliers['銀行残高'])\n",
        "plt.xlabel('データポイント')\n",
        "plt.ylabel('銀行残高')\n",
        "plt.title('30代40代既婚者の銀行残高の散布図（外れ値除去後）')\n",
        "plt.show()"
      ]
    },
    {
      "cell_type": "code",
      "execution_count": null,
      "metadata": {
        "id": "VlucnsZdcP5K"
      },
      "outputs": [],
      "source": [
        "# prompt: df_30_40_married_3_no_outliersを正規化し重回帰分析を行い、特徴重要度を可視化してください\n",
        "\n",
        "# 特徴量とターゲット変数の選択\n",
        "X = df_30_40_married_3_no_outliers.drop('成約確度', axis=1)\n",
        "y = df_30_40_married_3_no_outliers['成約確度']\n",
        "\n",
        "# データの正規化\n",
        "scaler = StandardScaler()\n",
        "X_scaled = scaler.fit_transform(X)\n",
        "\n",
        "# データの分割\n",
        "X_train, X_test, y_train, y_test = train_test_split(X_scaled, y, test_size=0.2, random_state=42)\n",
        "\n",
        "# 重回帰分析モデルの構築\n",
        "model = LinearRegression()\n",
        "model.fit(X_train, y_train)\n",
        "\n",
        "# 予測\n",
        "y_pred = model.predict(X_test)\n",
        "\n",
        "# モデル評価\n",
        "mse = mean_squared_error(y_test, y_pred)\n",
        "r2 = r2_score(y_test, y_pred)\n",
        "print(f\"平均二乗誤差 (MSE): {mse}\")\n",
        "print(f\"決定係数 (R^2): {r2}\")\n",
        "\n",
        "# 特徴量重要度の可視化\n",
        "feature_importance = pd.DataFrame({'特徴量': X.columns, '重要度': abs(model.coef_)})\n",
        "feature_importance = feature_importance.sort_values('重要度', ascending=False)\n",
        "\n",
        "plt.figure(figsize=(10, 6))\n",
        "sns.barplot(x='重要度', y='特徴量', data=feature_importance)\n",
        "plt.title('特徴量重要度')\n",
        "plt.xlabel('重要度（絶対値）')\n",
        "plt.ylabel('特徴量')\n",
        "plt.show()"
      ]
    },
    {
      "cell_type": "code",
      "execution_count": null,
      "metadata": {
        "id": "h1dswyFXcaw6"
      },
      "outputs": [],
      "source": [
        "# prompt: df_30_40_married_3_no_outliersの「持ち家の有無」列の割合を可視化してください\n",
        "\n",
        "# 持ち家の有無の割合を計算\n",
        "homeownership_ratio = df_30_40_married_3_no_outliers['持ち家の有無'].value_counts(normalize=True)\n",
        "\n",
        "# 円グラフで可視化\n",
        "plt.figure(figsize=(6, 6))\n",
        "plt.pie(homeownership_ratio, labels=homeownership_ratio.index, autopct='%1.1f%%', startangle=90)\n",
        "plt.title('30代40代既婚者（外れ値除去後）の持ち家の有無割合')\n",
        "plt.axis('equal')  # 円グラフを円形にする\n",
        "plt.show()"
      ]
    },
    {
      "cell_type": "code",
      "execution_count": null,
      "metadata": {
        "id": "Wkhjiv41cmhk"
      },
      "outputs": [],
      "source": [
        "# prompt: df_30_40_married_3_no_outliersの持ち家の有無と成約確度の関係を集計してください\n",
        "\n",
        "# 持ち家の有無と成約確度の関係を集計\n",
        "cross_table_homeownership = pd.crosstab(df_30_40_married_3_no_outliers['持ち家の有無'], df_30_40_married_3_no_outliers['成約確度'])\n",
        "print(cross_table_homeownership)\n",
        "\n",
        "# ヒートマップで可視化\n",
        "plt.figure(figsize=(8, 6))\n",
        "sns.heatmap(cross_table_homeownership, annot=True, fmt='d', cmap='viridis')\n",
        "plt.title('持ち家の有無と成約確度の関係（30-40代既婚者、外れ値除去後）')\n",
        "plt.xlabel('成約確度')\n",
        "plt.ylabel('持ち家の有無')\n",
        "plt.show()"
      ]
    },
    {
      "cell_type": "markdown",
      "metadata": {
        "id": "BDhtJGypc_A4"
      },
      "source": [
        "ターゲット→既婚者の年齢が３０−４０持ち家のある人をターゲットとして営業を行う\n",
        "\n",
        "\n",
        "住宅ローンとの連携：住宅ローン契約者向けに、連携した口座を開設すると金利が優遇される特典を提供する新たなキャンペーンの構築と案内\n",
        "例: 「住宅ローンとセットで新規口座開設すると金利0.1%引き下げ」。"
      ]
    },
    {
      "cell_type": "code",
      "execution_count": null,
      "metadata": {
        "id": "0jY4RAMKdHL_"
      },
      "outputs": [],
      "source": []
    },
    {
      "cell_type": "code",
      "execution_count": null,
      "metadata": {
        "id": "0s8Zhmw3czze"
      },
      "outputs": [],
      "source": []
    }
  ],
  "metadata": {
    "colab": {
      "private_outputs": true,
      "provenance": []
    },
    "kernelspec": {
      "display_name": "Python 3",
      "name": "python3"
    },
    "language_info": {
      "name": "python"
    }
  },
  "nbformat": 4,
  "nbformat_minor": 0
}
