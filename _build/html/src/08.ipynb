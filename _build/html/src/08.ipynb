{
 "cells": [
  {
   "cell_type": "code",
   "execution_count": 1,
   "metadata": {
    "id": "C4n9-RSzkPRm"
   },
   "outputs": [
    {
     "ename": "ModuleNotFoundError",
     "evalue": "No module named 'pandas'",
     "output_type": "error",
     "traceback": [
      "\u001b[0;31m---------------------------------------------------------------------------\u001b[0m",
      "\u001b[0;31mModuleNotFoundError\u001b[0m                       Traceback (most recent call last)",
      "Cell \u001b[0;32mIn[1], line 1\u001b[0m\n\u001b[0;32m----> 1\u001b[0m \u001b[38;5;28;01mimport\u001b[39;00m \u001b[38;5;21;01mpandas\u001b[39;00m \u001b[38;5;28;01mas\u001b[39;00m \u001b[38;5;21;01mpd\u001b[39;00m\n",
      "\u001b[0;31mModuleNotFoundError\u001b[0m: No module named 'pandas'"
     ]
    }
   ],
   "source": [
    "import pandas as pd"
   ]
  },
  {
   "cell_type": "code",
   "execution_count": 2,
   "metadata": {
    "id": "SxEVO7FykinS"
   },
   "outputs": [
    {
     "ename": "NameError",
     "evalue": "name 'pd' is not defined",
     "output_type": "error",
     "traceback": [
      "\u001b[0;31m---------------------------------------------------------------------------\u001b[0m",
      "\u001b[0;31mNameError\u001b[0m                                 Traceback (most recent call last)",
      "Cell \u001b[0;32mIn[2], line 1\u001b[0m\n\u001b[0;32m----> 1\u001b[0m df \u001b[38;5;241m=\u001b[39m \u001b[43mpd\u001b[49m\u001b[38;5;241m.\u001b[39mread_excel(\u001b[38;5;124m'\u001b[39m\u001b[38;5;124m重回帰.xlsx\u001b[39m\u001b[38;5;124m'\u001b[39m)\n",
      "\u001b[0;31mNameError\u001b[0m: name 'pd' is not defined"
     ]
    }
   ],
   "source": [
    "df = pd.read_excel('重回帰.xlsx')"
   ]
  },
  {
   "cell_type": "code",
   "execution_count": 3,
   "metadata": {
    "id": "o2caJQWckk7A"
   },
   "outputs": [
    {
     "ename": "NameError",
     "evalue": "name 'df' is not defined",
     "output_type": "error",
     "traceback": [
      "\u001b[0;31m---------------------------------------------------------------------------\u001b[0m",
      "\u001b[0;31mNameError\u001b[0m                                 Traceback (most recent call last)",
      "Cell \u001b[0;32mIn[3], line 1\u001b[0m\n\u001b[0;32m----> 1\u001b[0m \u001b[43mdf\u001b[49m\u001b[38;5;241m.\u001b[39mhead()\n",
      "\u001b[0;31mNameError\u001b[0m: name 'df' is not defined"
     ]
    }
   ],
   "source": [
    "df.head()"
   ]
  },
  {
   "cell_type": "code",
   "execution_count": 4,
   "metadata": {
    "id": "yE9jsSW6lMgj"
   },
   "outputs": [
    {
     "name": "stdout",
     "output_type": "stream",
     "text": [
      "zsh:1: command not found: apt-get\r\n"
     ]
    },
    {
     "name": "stdout",
     "output_type": "stream",
     "text": [
      "zsh:1: command not found: pip\r\n"
     ]
    },
    {
     "ename": "ModuleNotFoundError",
     "evalue": "No module named 'japanize_matplotlib'",
     "output_type": "error",
     "traceback": [
      "\u001b[0;31m---------------------------------------------------------------------------\u001b[0m",
      "\u001b[0;31mModuleNotFoundError\u001b[0m                       Traceback (most recent call last)",
      "Cell \u001b[0;32mIn[4], line 3\u001b[0m\n\u001b[1;32m      1\u001b[0m get_ipython()\u001b[38;5;241m.\u001b[39msystem(\u001b[38;5;124m'\u001b[39m\u001b[38;5;124mapt-get -y install fonts-ipafont-gothic\u001b[39m\u001b[38;5;124m'\u001b[39m)\n\u001b[1;32m      2\u001b[0m get_ipython()\u001b[38;5;241m.\u001b[39msystem(\u001b[38;5;124m'\u001b[39m\u001b[38;5;124mpip install japanize-matplotlib\u001b[39m\u001b[38;5;124m'\u001b[39m)\n\u001b[0;32m----> 3\u001b[0m \u001b[38;5;28;01mimport\u001b[39;00m \u001b[38;5;21;01mjapanize_matplotlib\u001b[39;00m\n\u001b[1;32m      4\u001b[0m \u001b[38;5;28;01mimport\u001b[39;00m \u001b[38;5;21;01mmatplotlib\u001b[39;00m\u001b[38;5;21;01m.\u001b[39;00m\u001b[38;5;21;01mpyplot\u001b[39;00m \u001b[38;5;28;01mas\u001b[39;00m \u001b[38;5;21;01mplt\u001b[39;00m\n\u001b[1;32m      6\u001b[0m \u001b[38;5;66;03m# 場合によっては必要\u001b[39;00m\n",
      "\u001b[0;31mModuleNotFoundError\u001b[0m: No module named 'japanize_matplotlib'"
     ]
    }
   ],
   "source": [
    "!apt-get -y install fonts-ipafont-gothic\n",
    "!pip install japanize-matplotlib\n",
    "import japanize_matplotlib\n",
    "import matplotlib.pyplot as plt\n",
    "\n",
    "# 場合によっては必要\n",
    "plt.rcParams['font.family'] = 'IPAPGothic'\n",
    "japanize_matplotlib.japanize()"
   ]
  },
  {
   "cell_type": "code",
   "execution_count": 5,
   "metadata": {
    "id": "VZ-y8czpkl7z"
   },
   "outputs": [
    {
     "ename": "ModuleNotFoundError",
     "evalue": "No module named 'pandas'",
     "output_type": "error",
     "traceback": [
      "\u001b[0;31m---------------------------------------------------------------------------\u001b[0m",
      "\u001b[0;31mModuleNotFoundError\u001b[0m                       Traceback (most recent call last)",
      "Cell \u001b[0;32mIn[5], line 1\u001b[0m\n\u001b[0;32m----> 1\u001b[0m \u001b[38;5;28;01mimport\u001b[39;00m \u001b[38;5;21;01mpandas\u001b[39;00m \u001b[38;5;28;01mas\u001b[39;00m \u001b[38;5;21;01mpd\u001b[39;00m\n\u001b[1;32m      2\u001b[0m \u001b[38;5;28;01mimport\u001b[39;00m \u001b[38;5;21;01mnumpy\u001b[39;00m \u001b[38;5;28;01mas\u001b[39;00m \u001b[38;5;21;01mnp\u001b[39;00m\n\u001b[1;32m      3\u001b[0m \u001b[38;5;28;01mfrom\u001b[39;00m \u001b[38;5;21;01msklearn\u001b[39;00m\u001b[38;5;21;01m.\u001b[39;00m\u001b[38;5;21;01mmodel_selection\u001b[39;00m \u001b[38;5;28;01mimport\u001b[39;00m train_test_split\n",
      "\u001b[0;31mModuleNotFoundError\u001b[0m: No module named 'pandas'"
     ]
    }
   ],
   "source": [
    "import pandas as pd\n",
    "import numpy as np\n",
    "from sklearn.model_selection import train_test_split\n",
    "from sklearn.preprocessing import StandardScaler\n",
    "from sklearn.linear_model import LinearRegression\n",
    "from sklearn.metrics import mean_squared_error, r2_score\n",
    "import matplotlib.pyplot as plt\n",
    "import seaborn as sns\n",
    "\n",
    "# データの読み込み\n",
    "df = pd.read_excel('重回帰.xlsx')\n",
    "\n",
    "# 特徴量とターゲット変数の選択\n",
    "X = df.drop('成約確度', axis=1)\n",
    "y = df['成約確度']\n",
    "\n",
    "# データの正規化（データを平均「0」、標準偏差「1」）\n",
    "scaler = StandardScaler()\n",
    "X_scaled = scaler.fit_transform(X)\n",
    "\n",
    "# データの分割\n",
    "X_train, X_test, y_train, y_test = train_test_split(X_scaled, y, test_size=0.2, random_state=42)\n",
    "\n",
    "# 重回帰分析モデルの構築\n",
    "model = LinearRegression()\n",
    "model.fit(X_train, y_train)\n",
    "\n",
    "# 予測\n",
    "y_pred = model.predict(X_test)\n",
    "\n",
    "# モデル評価\n",
    "mse = mean_squared_error(y_test, y_pred)\n",
    "r2 = r2_score(y_test, y_pred)\n",
    "print(f\"平均二乗誤差 (MSE): {mse}\")\n",
    "print(f\"決定係数 (R^2): {r2}\")\n",
    "\n",
    "\n",
    "# 特徴量重要度の可視化\n",
    "feature_importance = pd.DataFrame({'特徴量': X.columns, '重要度': abs(model.coef_)})\n",
    "feature_importance = feature_importance.sort_values('重要度', ascending=False)\n",
    "\n",
    "plt.figure(figsize=(10, 6))\n",
    "sns.barplot(x='重要度', y='特徴量', data=feature_importance)\n",
    "plt.title('特徴量重要度')\n",
    "plt.xlabel('重要度（絶対値）')\n",
    "plt.ylabel('特徴量')\n",
    "plt.show()"
   ]
  },
  {
   "cell_type": "code",
   "execution_count": 6,
   "metadata": {
    "id": "wUQkgWpzlCBM"
   },
   "outputs": [
    {
     "ename": "NameError",
     "evalue": "name 'pd' is not defined",
     "output_type": "error",
     "traceback": [
      "\u001b[0;31m---------------------------------------------------------------------------\u001b[0m",
      "\u001b[0;31mNameError\u001b[0m                                 Traceback (most recent call last)",
      "Cell \u001b[0;32mIn[6], line 4\u001b[0m\n\u001b[1;32m      1\u001b[0m \u001b[38;5;66;03m# prompt: X_scaledをPandasで表示させてください！！！\u001b[39;00m\n\u001b[1;32m      2\u001b[0m \n\u001b[1;32m      3\u001b[0m \u001b[38;5;66;03m# X_scaledはNumPy配列なので、PandasのDataFrameに変換します。\u001b[39;00m\n\u001b[0;32m----> 4\u001b[0m X_scaled_df \u001b[38;5;241m=\u001b[39m \u001b[43mpd\u001b[49m\u001b[38;5;241m.\u001b[39mDataFrame(X_scaled, columns\u001b[38;5;241m=\u001b[39mX\u001b[38;5;241m.\u001b[39mcolumns)\n\u001b[1;32m      6\u001b[0m \u001b[38;5;66;03m# DataFrameを表示します。\u001b[39;00m\n\u001b[1;32m      7\u001b[0m X_scaled_df\n",
      "\u001b[0;31mNameError\u001b[0m: name 'pd' is not defined"
     ]
    }
   ],
   "source": [
    "# prompt: X_scaledをPandasで表示させてください！！！\n",
    "\n",
    "# X_scaledはNumPy配列なので、PandasのDataFrameに変換します。\n",
    "X_scaled_df = pd.DataFrame(X_scaled, columns=X.columns)\n",
    "\n",
    "# DataFrameを表示します。\n",
    "X_scaled_df"
   ]
  },
  {
   "cell_type": "code",
   "execution_count": 7,
   "metadata": {
    "id": "kB_8h0kAlhpV"
   },
   "outputs": [
    {
     "ename": "NameError",
     "evalue": "name 'pd' is not defined",
     "output_type": "error",
     "traceback": [
      "\u001b[0;31m---------------------------------------------------------------------------\u001b[0m",
      "\u001b[0;31mNameError\u001b[0m                                 Traceback (most recent call last)",
      "Cell \u001b[0;32mIn[7], line 4\u001b[0m\n\u001b[1;32m      1\u001b[0m \u001b[38;5;66;03m# prompt: dfの結婚状況と最終学歴の関係を可視化してください。\u001b[39;00m\n\u001b[1;32m      2\u001b[0m \n\u001b[1;32m      3\u001b[0m \u001b[38;5;66;03m# 結婚状況と最終学歴のクロス集計表を作成\u001b[39;00m\n\u001b[0;32m----> 4\u001b[0m cross_table \u001b[38;5;241m=\u001b[39m \u001b[43mpd\u001b[49m\u001b[38;5;241m.\u001b[39mcrosstab(df[\u001b[38;5;124m'\u001b[39m\u001b[38;5;124m結婚状況\u001b[39m\u001b[38;5;124m'\u001b[39m], df[\u001b[38;5;124m'\u001b[39m\u001b[38;5;124m最終学歴\u001b[39m\u001b[38;5;124m'\u001b[39m])\n\u001b[1;32m      6\u001b[0m \u001b[38;5;66;03m# ヒートマップで可視化\u001b[39;00m\n\u001b[1;32m      7\u001b[0m plt\u001b[38;5;241m.\u001b[39mfigure(figsize\u001b[38;5;241m=\u001b[39m(\u001b[38;5;241m10\u001b[39m, \u001b[38;5;241m6\u001b[39m))\n",
      "\u001b[0;31mNameError\u001b[0m: name 'pd' is not defined"
     ]
    }
   ],
   "source": [
    "# prompt: dfの結婚状況と最終学歴の関係を可視化してください。\n",
    "\n",
    "# 結婚状況と最終学歴のクロス集計表を作成\n",
    "cross_table = pd.crosstab(df['結婚状況'], df['最終学歴'])\n",
    "\n",
    "# ヒートマップで可視化\n",
    "plt.figure(figsize=(10, 6))\n",
    "sns.heatmap(cross_table, annot=True, fmt='d', cmap='Blues')\n",
    "plt.title('結婚状況と最終学歴の関係')\n",
    "plt.xlabel('最終学歴')\n",
    "plt.ylabel('結婚状況')\n",
    "plt.show()"
   ]
  },
  {
   "cell_type": "code",
   "execution_count": 8,
   "metadata": {
    "id": "6MizcqxDZMpW"
   },
   "outputs": [
    {
     "ename": "NameError",
     "evalue": "name 'df' is not defined",
     "output_type": "error",
     "traceback": [
      "\u001b[0;31m---------------------------------------------------------------------------\u001b[0m",
      "\u001b[0;31mNameError\u001b[0m                                 Traceback (most recent call last)",
      "Cell \u001b[0;32mIn[8], line 20\u001b[0m\n\u001b[1;32m     17\u001b[0m     \u001b[38;5;28;01melse\u001b[39;00m:\n\u001b[1;32m     18\u001b[0m         \u001b[38;5;28;01mreturn\u001b[39;00m \u001b[38;5;124m'\u001b[39m\u001b[38;5;124mその他\u001b[39m\u001b[38;5;124m'\u001b[39m\n\u001b[0;32m---> 20\u001b[0m df[\u001b[38;5;124m'\u001b[39m\u001b[38;5;124m年齢層\u001b[39m\u001b[38;5;124m'\u001b[39m] \u001b[38;5;241m=\u001b[39m \u001b[43mdf\u001b[49m[\u001b[38;5;124m'\u001b[39m\u001b[38;5;124m年齢\u001b[39m\u001b[38;5;124m'\u001b[39m]\u001b[38;5;241m.\u001b[39mapply(categorize_age)\n",
      "\u001b[0;31mNameError\u001b[0m: name 'df' is not defined"
     ]
    }
   ],
   "source": [
    "# prompt: 年齢列を十代事にまとめて年齢層列をdfに追加してください\n",
    "\n",
    "# 年齢列を元に年齢層列を作成\n",
    "def categorize_age(age):\n",
    "    if 10 <= age < 20:\n",
    "        return '10代'\n",
    "    elif 20 <= age < 30:\n",
    "        return '20代'\n",
    "    elif 30 <= age < 40:\n",
    "        return '30代'\n",
    "    elif 40 <= age < 50:\n",
    "        return '40代'\n",
    "    elif 50 <= age < 60:\n",
    "        return '50代'\n",
    "    elif 60 <= age < 70:\n",
    "        return '60代'\n",
    "    else:\n",
    "        return 'その他'\n",
    "\n",
    "df['年齢層'] = df['年齢'].apply(categorize_age)"
   ]
  },
  {
   "cell_type": "code",
   "execution_count": 9,
   "metadata": {
    "id": "1AbewcxgZZuM"
   },
   "outputs": [
    {
     "ename": "NameError",
     "evalue": "name 'pd' is not defined",
     "output_type": "error",
     "traceback": [
      "\u001b[0;31m---------------------------------------------------------------------------\u001b[0m",
      "\u001b[0;31mNameError\u001b[0m                                 Traceback (most recent call last)",
      "Cell \u001b[0;32mIn[9], line 4\u001b[0m\n\u001b[1;32m      1\u001b[0m \u001b[38;5;66;03m# prompt: 結婚状況と年齢層の関係を可視化してください\u001b[39;00m\n\u001b[1;32m      2\u001b[0m \n\u001b[1;32m      3\u001b[0m \u001b[38;5;66;03m# 結婚状況と年齢層の関係をクロス集計表で可視化\u001b[39;00m\n\u001b[0;32m----> 4\u001b[0m cross_table_age \u001b[38;5;241m=\u001b[39m \u001b[43mpd\u001b[49m\u001b[38;5;241m.\u001b[39mcrosstab(df[\u001b[38;5;124m'\u001b[39m\u001b[38;5;124m結婚状況\u001b[39m\u001b[38;5;124m'\u001b[39m], df[\u001b[38;5;124m'\u001b[39m\u001b[38;5;124m年齢層\u001b[39m\u001b[38;5;124m'\u001b[39m])\n\u001b[1;32m      6\u001b[0m plt\u001b[38;5;241m.\u001b[39mfigure(figsize\u001b[38;5;241m=\u001b[39m(\u001b[38;5;241m10\u001b[39m, \u001b[38;5;241m6\u001b[39m))\n\u001b[1;32m      7\u001b[0m sns\u001b[38;5;241m.\u001b[39mheatmap(cross_table_age, annot\u001b[38;5;241m=\u001b[39m\u001b[38;5;28;01mTrue\u001b[39;00m, fmt\u001b[38;5;241m=\u001b[39m\u001b[38;5;124m'\u001b[39m\u001b[38;5;124md\u001b[39m\u001b[38;5;124m'\u001b[39m, cmap\u001b[38;5;241m=\u001b[39m\u001b[38;5;124m'\u001b[39m\u001b[38;5;124mBlues\u001b[39m\u001b[38;5;124m'\u001b[39m)\n",
      "\u001b[0;31mNameError\u001b[0m: name 'pd' is not defined"
     ]
    }
   ],
   "source": [
    "# prompt: 結婚状況と年齢層の関係を可視化してください\n",
    "\n",
    "# 結婚状況と年齢層の関係をクロス集計表で可視化\n",
    "cross_table_age = pd.crosstab(df['結婚状況'], df['年齢層'])\n",
    "\n",
    "plt.figure(figsize=(10, 6))\n",
    "sns.heatmap(cross_table_age, annot=True, fmt='d', cmap='Blues')\n",
    "plt.title('結婚状況と年齢層の関係')\n",
    "plt.xlabel('年齢層')\n",
    "plt.ylabel('結婚状況')\n",
    "plt.show()"
   ]
  },
  {
   "cell_type": "code",
   "execution_count": 10,
   "metadata": {
    "id": "KKzI4jm6ZnBQ"
   },
   "outputs": [
    {
     "ename": "NameError",
     "evalue": "name 'df' is not defined",
     "output_type": "error",
     "traceback": [
      "\u001b[0;31m---------------------------------------------------------------------------\u001b[0m",
      "\u001b[0;31mNameError\u001b[0m                                 Traceback (most recent call last)",
      "Cell \u001b[0;32mIn[10], line 4\u001b[0m\n\u001b[1;32m      1\u001b[0m \u001b[38;5;66;03m# prompt: 年齢層が30代、40代のデータのみを抽出してください\u001b[39;00m\n\u001b[1;32m      2\u001b[0m \n\u001b[1;32m      3\u001b[0m \u001b[38;5;66;03m# 30代と40代のデータのみを抽出\u001b[39;00m\n\u001b[0;32m----> 4\u001b[0m df_30_40 \u001b[38;5;241m=\u001b[39m \u001b[43mdf\u001b[49m[(df[\u001b[38;5;124m'\u001b[39m\u001b[38;5;124m年齢層\u001b[39m\u001b[38;5;124m'\u001b[39m] \u001b[38;5;241m==\u001b[39m \u001b[38;5;124m'\u001b[39m\u001b[38;5;124m30代\u001b[39m\u001b[38;5;124m'\u001b[39m) \u001b[38;5;241m|\u001b[39m (df[\u001b[38;5;124m'\u001b[39m\u001b[38;5;124m年齢層\u001b[39m\u001b[38;5;124m'\u001b[39m] \u001b[38;5;241m==\u001b[39m \u001b[38;5;124m'\u001b[39m\u001b[38;5;124m40代\u001b[39m\u001b[38;5;124m'\u001b[39m)]\n\u001b[1;32m      6\u001b[0m \u001b[38;5;66;03m# 抽出されたデータを表示\u001b[39;00m\n\u001b[1;32m      7\u001b[0m df_30_40\n",
      "\u001b[0;31mNameError\u001b[0m: name 'df' is not defined"
     ]
    }
   ],
   "source": [
    "# prompt: 年齢層が30代、40代のデータのみを抽出してください\n",
    "\n",
    "# 30代と40代のデータのみを抽出\n",
    "df_30_40 = df[(df['年齢層'] == '30代') | (df['年齢層'] == '40代')]\n",
    "\n",
    "# 抽出されたデータを表示\n",
    "df_30_40"
   ]
  },
  {
   "cell_type": "code",
   "execution_count": 11,
   "metadata": {
    "id": "Z5LzNowXZ1KR"
   },
   "outputs": [
    {
     "ename": "NameError",
     "evalue": "name 'df_30_40' is not defined",
     "output_type": "error",
     "traceback": [
      "\u001b[0;31m---------------------------------------------------------------------------\u001b[0m",
      "\u001b[0;31mNameError\u001b[0m                                 Traceback (most recent call last)",
      "Cell \u001b[0;32mIn[11], line 5\u001b[0m\n\u001b[1;32m      1\u001b[0m \u001b[38;5;66;03m# prompt: df_30_40を用いて正規化を行い重回帰分析を実装し特徴重要度を可視化してください。\u001b[39;00m\n\u001b[1;32m      2\u001b[0m \u001b[38;5;66;03m# 年齢層データはドロップしてください\u001b[39;00m\n\u001b[1;32m      3\u001b[0m \n\u001b[1;32m      4\u001b[0m \u001b[38;5;66;03m# 年齢層列を削除\u001b[39;00m\n\u001b[0;32m----> 5\u001b[0m df_30_40 \u001b[38;5;241m=\u001b[39m \u001b[43mdf_30_40\u001b[49m\u001b[38;5;241m.\u001b[39mdrop(\u001b[38;5;124m'\u001b[39m\u001b[38;5;124m年齢層\u001b[39m\u001b[38;5;124m'\u001b[39m, axis\u001b[38;5;241m=\u001b[39m\u001b[38;5;241m1\u001b[39m)\n\u001b[1;32m      7\u001b[0m \u001b[38;5;66;03m# 特徴量とターゲット変数の選択\u001b[39;00m\n\u001b[1;32m      8\u001b[0m X \u001b[38;5;241m=\u001b[39m df_30_40\u001b[38;5;241m.\u001b[39mdrop(\u001b[38;5;124m'\u001b[39m\u001b[38;5;124m成約確度\u001b[39m\u001b[38;5;124m'\u001b[39m, axis\u001b[38;5;241m=\u001b[39m\u001b[38;5;241m1\u001b[39m)\n",
      "\u001b[0;31mNameError\u001b[0m: name 'df_30_40' is not defined"
     ]
    }
   ],
   "source": [
    "# prompt: df_30_40を用いて正規化を行い重回帰分析を実装し特徴重要度を可視化してください。\n",
    "# 年齢層データはドロップしてください\n",
    "\n",
    "# 年齢層列を削除\n",
    "df_30_40 = df_30_40.drop('年齢層', axis=1)\n",
    "\n",
    "# 特徴量とターゲット変数の選択\n",
    "X = df_30_40.drop('成約確度', axis=1)\n",
    "y = df_30_40['成約確度']\n",
    "\n",
    "# データの正規化\n",
    "scaler = StandardScaler()\n",
    "X_scaled = scaler.fit_transform(X)\n",
    "\n",
    "# データの分割\n",
    "X_train, X_test, y_train, y_test = train_test_split(X_scaled, y, test_size=0.2, random_state=42)\n",
    "\n",
    "# 重回帰分析モデルの構築\n",
    "model = LinearRegression()\n",
    "model.fit(X_train, y_train)\n",
    "\n",
    "# 予測\n",
    "y_pred = model.predict(X_test)\n",
    "\n",
    "# モデル評価\n",
    "mse = mean_squared_error(y_test, y_pred)\n",
    "r2 = r2_score(y_test, y_pred)\n",
    "print(f\"平均二乗誤差 (MSE): {mse}\")\n",
    "print(f\"決定係数 (R^2): {r2}\")\n",
    "\n",
    "# 特徴量重要度の可視化\n",
    "feature_importance = pd.DataFrame({'特徴量': X.columns, '重要度': abs(model.coef_)})\n",
    "feature_importance = feature_importance.sort_values('重要度', ascending=False)\n",
    "\n",
    "plt.figure(figsize=(10, 6))\n",
    "sns.barplot(x='重要度', y='特徴量', data=feature_importance)\n",
    "plt.title('特徴量重要度')\n",
    "plt.xlabel('重要度（絶対値）')\n",
    "plt.ylabel('特徴量')\n",
    "plt.show()"
   ]
  },
  {
   "cell_type": "code",
   "execution_count": 12,
   "metadata": {
    "id": "8sRaDftEa8LW"
   },
   "outputs": [
    {
     "ename": "NameError",
     "evalue": "name 'df_30_40' is not defined",
     "output_type": "error",
     "traceback": [
      "\u001b[0;31m---------------------------------------------------------------------------\u001b[0m",
      "\u001b[0;31mNameError\u001b[0m                                 Traceback (most recent call last)",
      "Cell \u001b[0;32mIn[12], line 4\u001b[0m\n\u001b[1;32m      1\u001b[0m \u001b[38;5;66;03m# prompt: df_30_40の結婚状況を教えて下さい\u001b[39;00m\n\u001b[1;32m      2\u001b[0m \n\u001b[1;32m      3\u001b[0m \u001b[38;5;66;03m# 結婚状況の値の分布を確認\u001b[39;00m\n\u001b[0;32m----> 4\u001b[0m \u001b[38;5;28mprint\u001b[39m(\u001b[43mdf_30_40\u001b[49m[\u001b[38;5;124m'\u001b[39m\u001b[38;5;124m結婚状況\u001b[39m\u001b[38;5;124m'\u001b[39m]\u001b[38;5;241m.\u001b[39mvalue_counts())\n",
      "\u001b[0;31mNameError\u001b[0m: name 'df_30_40' is not defined"
     ]
    }
   ],
   "source": [
    "# prompt: df_30_40の結婚状況を教えて下さい\n",
    "\n",
    "# 結婚状況の値の分布を確認\n",
    "print(df_30_40['結婚状況'].value_counts())"
   ]
  },
  {
   "cell_type": "code",
   "execution_count": 13,
   "metadata": {
    "id": "DqZ7GlaCbMBu"
   },
   "outputs": [
    {
     "ename": "NameError",
     "evalue": "name 'df_30_40' is not defined",
     "output_type": "error",
     "traceback": [
      "\u001b[0;31m---------------------------------------------------------------------------\u001b[0m",
      "\u001b[0;31mNameError\u001b[0m                                 Traceback (most recent call last)",
      "Cell \u001b[0;32mIn[13], line 4\u001b[0m\n\u001b[1;32m      1\u001b[0m \u001b[38;5;66;03m# prompt: df_30_40から結婚状況が3のデータを抽出してください\u001b[39;00m\n\u001b[1;32m      2\u001b[0m \n\u001b[1;32m      3\u001b[0m \u001b[38;5;66;03m# 結婚状況が3のデータを抽出\u001b[39;00m\n\u001b[0;32m----> 4\u001b[0m df_30_40_married_3 \u001b[38;5;241m=\u001b[39m \u001b[43mdf_30_40\u001b[49m[df_30_40[\u001b[38;5;124m'\u001b[39m\u001b[38;5;124m結婚状況\u001b[39m\u001b[38;5;124m'\u001b[39m] \u001b[38;5;241m==\u001b[39m \u001b[38;5;241m3\u001b[39m]\n\u001b[1;32m      6\u001b[0m \u001b[38;5;66;03m# 抽出されたデータを表示\u001b[39;00m\n\u001b[1;32m      7\u001b[0m df_30_40_married_3\n",
      "\u001b[0;31mNameError\u001b[0m: name 'df_30_40' is not defined"
     ]
    }
   ],
   "source": [
    "# prompt: df_30_40から結婚状況が3のデータを抽出してください\n",
    "\n",
    "# 結婚状況が3のデータを抽出\n",
    "df_30_40_married_3 = df_30_40[df_30_40['結婚状況'] == 3]\n",
    "\n",
    "# 抽出されたデータを表示\n",
    "df_30_40_married_3"
   ]
  },
  {
   "cell_type": "code",
   "execution_count": 14,
   "metadata": {
    "id": "H8OgyXVzbVFA"
   },
   "outputs": [
    {
     "ename": "NameError",
     "evalue": "name 'df_30_40_married_3' is not defined",
     "output_type": "error",
     "traceback": [
      "\u001b[0;31m---------------------------------------------------------------------------\u001b[0m",
      "\u001b[0;31mNameError\u001b[0m                                 Traceback (most recent call last)",
      "Cell \u001b[0;32mIn[14], line 4\u001b[0m\n\u001b[1;32m      1\u001b[0m \u001b[38;5;66;03m# prompt: df_30_40_married_3から結婚状況をドロップし正規化を行って重回帰分析を行い、特徴重要度を可視化してください。\u001b[39;00m\n\u001b[1;32m      2\u001b[0m \n\u001b[1;32m      3\u001b[0m \u001b[38;5;66;03m# 結婚状況をドロップ\u001b[39;00m\n\u001b[0;32m----> 4\u001b[0m df_30_40_married_3 \u001b[38;5;241m=\u001b[39m \u001b[43mdf_30_40_married_3\u001b[49m\u001b[38;5;241m.\u001b[39mdrop(\u001b[38;5;124m'\u001b[39m\u001b[38;5;124m結婚状況\u001b[39m\u001b[38;5;124m'\u001b[39m, axis\u001b[38;5;241m=\u001b[39m\u001b[38;5;241m1\u001b[39m)\n\u001b[1;32m      6\u001b[0m \u001b[38;5;66;03m# 特徴量とターゲット変数の選択\u001b[39;00m\n\u001b[1;32m      7\u001b[0m X \u001b[38;5;241m=\u001b[39m df_30_40_married_3\u001b[38;5;241m.\u001b[39mdrop(\u001b[38;5;124m'\u001b[39m\u001b[38;5;124m成約確度\u001b[39m\u001b[38;5;124m'\u001b[39m, axis\u001b[38;5;241m=\u001b[39m\u001b[38;5;241m1\u001b[39m)\n",
      "\u001b[0;31mNameError\u001b[0m: name 'df_30_40_married_3' is not defined"
     ]
    }
   ],
   "source": [
    "# prompt: df_30_40_married_3から結婚状況をドロップし正規化を行って重回帰分析を行い、特徴重要度を可視化してください。\n",
    "\n",
    "# 結婚状況をドロップ\n",
    "df_30_40_married_3 = df_30_40_married_3.drop('結婚状況', axis=1)\n",
    "\n",
    "# 特徴量とターゲット変数の選択\n",
    "X = df_30_40_married_3.drop('成約確度', axis=1)\n",
    "y = df_30_40_married_3['成約確度']\n",
    "\n",
    "# データの正規化\n",
    "scaler = StandardScaler()\n",
    "X_scaled = scaler.fit_transform(X)\n",
    "\n",
    "# データの分割\n",
    "X_train, X_test, y_train, y_test = train_test_split(X_scaled, y, test_size=0.2, random_state=42)\n",
    "\n",
    "# 重回帰分析モデルの構築\n",
    "model = LinearRegression()\n",
    "model.fit(X_train, y_train)\n",
    "\n",
    "# 予測\n",
    "y_pred = model.predict(X_test)\n",
    "\n",
    "# モデル評価\n",
    "mse = mean_squared_error(y_test, y_pred)\n",
    "r2 = r2_score(y_test, y_pred)\n",
    "print(f\"平均二乗誤差 (MSE): {mse}\")\n",
    "print(f\"決定係数 (R^2): {r2}\")\n",
    "\n",
    "# 特徴量重要度の可視化\n",
    "feature_importance = pd.DataFrame({'特徴量': X.columns, '重要度': abs(model.coef_)})\n",
    "feature_importance = feature_importance.sort_values('重要度', ascending=False)\n",
    "\n",
    "plt.figure(figsize=(10, 6))\n",
    "sns.barplot(x='重要度', y='特徴量', data=feature_importance)\n",
    "plt.title('特徴量重要度')\n",
    "plt.xlabel('重要度（絶対値）')\n",
    "plt.ylabel('特徴量')\n",
    "plt.show()"
   ]
  },
  {
   "cell_type": "code",
   "execution_count": 15,
   "metadata": {
    "id": "V0Ag5Li8bc2n"
   },
   "outputs": [
    {
     "ename": "NameError",
     "evalue": "name 'pd' is not defined",
     "output_type": "error",
     "traceback": [
      "\u001b[0;31m---------------------------------------------------------------------------\u001b[0m",
      "\u001b[0;31mNameError\u001b[0m                                 Traceback (most recent call last)",
      "Cell \u001b[0;32mIn[15], line 2\u001b[0m\n\u001b[1;32m      1\u001b[0m \u001b[38;5;66;03m# X_scaledはNumPy配列なので、PandasのDataFrameに変換します。\u001b[39;00m\n\u001b[0;32m----> 2\u001b[0m X_scaled_df \u001b[38;5;241m=\u001b[39m \u001b[43mpd\u001b[49m\u001b[38;5;241m.\u001b[39mDataFrame(X_scaled, columns\u001b[38;5;241m=\u001b[39mX\u001b[38;5;241m.\u001b[39mcolumns)\n\u001b[1;32m      4\u001b[0m \u001b[38;5;66;03m# DataFrameを表示します。\u001b[39;00m\n\u001b[1;32m      5\u001b[0m X_scaled_df\n",
      "\u001b[0;31mNameError\u001b[0m: name 'pd' is not defined"
     ]
    }
   ],
   "source": [
    "# X_scaledはNumPy配列なので、PandasのDataFrameに変換します。\n",
    "X_scaled_df = pd.DataFrame(X_scaled, columns=X.columns)\n",
    "\n",
    "# DataFrameを表示します。\n",
    "X_scaled_df"
   ]
  },
  {
   "cell_type": "code",
   "execution_count": 16,
   "metadata": {
    "id": "PXPQ7v16bpbL"
   },
   "outputs": [
    {
     "ename": "NameError",
     "evalue": "name 'plt' is not defined",
     "output_type": "error",
     "traceback": [
      "\u001b[0;31m---------------------------------------------------------------------------\u001b[0m",
      "\u001b[0;31mNameError\u001b[0m                                 Traceback (most recent call last)",
      "Cell \u001b[0;32mIn[16], line 4\u001b[0m\n\u001b[1;32m      1\u001b[0m \u001b[38;5;66;03m# prompt: df_30_40_married_3の銀行残高の散布図を表示してください。\u001b[39;00m\n\u001b[1;32m      2\u001b[0m \n\u001b[1;32m      3\u001b[0m \u001b[38;5;66;03m# 銀行残高の散布図を作成\u001b[39;00m\n\u001b[0;32m----> 4\u001b[0m \u001b[43mplt\u001b[49m\u001b[38;5;241m.\u001b[39mfigure(figsize\u001b[38;5;241m=\u001b[39m(\u001b[38;5;241m8\u001b[39m, \u001b[38;5;241m6\u001b[39m))\n\u001b[1;32m      5\u001b[0m plt\u001b[38;5;241m.\u001b[39mscatter(df_30_40_married_3\u001b[38;5;241m.\u001b[39mindex, df_30_40_married_3[\u001b[38;5;124m'\u001b[39m\u001b[38;5;124m銀行残高\u001b[39m\u001b[38;5;124m'\u001b[39m])\n\u001b[1;32m      6\u001b[0m plt\u001b[38;5;241m.\u001b[39mxlabel(\u001b[38;5;124m'\u001b[39m\u001b[38;5;124mデータポイント\u001b[39m\u001b[38;5;124m'\u001b[39m)\n",
      "\u001b[0;31mNameError\u001b[0m: name 'plt' is not defined"
     ]
    }
   ],
   "source": [
    "# prompt: df_30_40_married_3の銀行残高の散布図を表示してください。\n",
    "\n",
    "# 銀行残高の散布図を作成\n",
    "plt.figure(figsize=(8, 6))\n",
    "plt.scatter(df_30_40_married_3.index, df_30_40_married_3['銀行残高'])\n",
    "plt.xlabel('データポイント')\n",
    "plt.ylabel('銀行残高')\n",
    "plt.title('30代40代既婚者の銀行残高の散布図')\n",
    "plt.show()"
   ]
  },
  {
   "cell_type": "code",
   "execution_count": 17,
   "metadata": {
    "id": "ZhlLiifMb3Dr"
   },
   "outputs": [
    {
     "ename": "NameError",
     "evalue": "name 'df_30_40_married_3' is not defined",
     "output_type": "error",
     "traceback": [
      "\u001b[0;31m---------------------------------------------------------------------------\u001b[0m",
      "\u001b[0;31mNameError\u001b[0m                                 Traceback (most recent call last)",
      "Cell \u001b[0;32mIn[17], line 4\u001b[0m\n\u001b[1;32m      1\u001b[0m \u001b[38;5;66;03m# prompt: df_30_40_married_3の銀行残高のハズレ値を除去してください\u001b[39;00m\n\u001b[1;32m      2\u001b[0m \n\u001b[1;32m      3\u001b[0m \u001b[38;5;66;03m# IQRを用いた外れ値の検出と除去\u001b[39;00m\n\u001b[0;32m----> 4\u001b[0m Q1 \u001b[38;5;241m=\u001b[39m \u001b[43mdf_30_40_married_3\u001b[49m[\u001b[38;5;124m'\u001b[39m\u001b[38;5;124m銀行残高\u001b[39m\u001b[38;5;124m'\u001b[39m]\u001b[38;5;241m.\u001b[39mquantile(\u001b[38;5;241m0.25\u001b[39m)\n\u001b[1;32m      5\u001b[0m Q3 \u001b[38;5;241m=\u001b[39m df_30_40_married_3[\u001b[38;5;124m'\u001b[39m\u001b[38;5;124m銀行残高\u001b[39m\u001b[38;5;124m'\u001b[39m]\u001b[38;5;241m.\u001b[39mquantile(\u001b[38;5;241m0.75\u001b[39m)\n\u001b[1;32m      6\u001b[0m IQR \u001b[38;5;241m=\u001b[39m Q3 \u001b[38;5;241m-\u001b[39m Q1\n",
      "\u001b[0;31mNameError\u001b[0m: name 'df_30_40_married_3' is not defined"
     ]
    }
   ],
   "source": [
    "# prompt: df_30_40_married_3の銀行残高のハズレ値を除去してください\n",
    "\n",
    "# IQRを用いた外れ値の検出と除去\n",
    "Q1 = df_30_40_married_3['銀行残高'].quantile(0.25)\n",
    "Q3 = df_30_40_married_3['銀行残高'].quantile(0.75)\n",
    "IQR = Q3 - Q1\n",
    "lower_bound = Q1 - 1.5 * IQR\n",
    "upper_bound = Q3 + 1.5 * IQR\n",
    "\n",
    "df_30_40_married_3_no_outliers = df_30_40_married_3[\n",
    "    (df_30_40_married_3['銀行残高'] >= lower_bound) &\n",
    "    (df_30_40_married_3['銀行残高'] <= upper_bound)\n",
    "]\n",
    "\n",
    "# 外れ値除去後のデータの確認\n",
    "print(df_30_40_married_3_no_outliers.describe())\n",
    "\n",
    "# 外れ値除去後の銀行残高の散布図\n",
    "plt.figure(figsize=(8, 6))\n",
    "plt.scatter(df_30_40_married_3_no_outliers.index, df_30_40_married_3_no_outliers['銀行残高'])\n",
    "plt.xlabel('データポイント')\n",
    "plt.ylabel('銀行残高')\n",
    "plt.title('30代40代既婚者の銀行残高の散布図（外れ値除去後）')\n",
    "plt.show()"
   ]
  },
  {
   "cell_type": "code",
   "execution_count": 18,
   "metadata": {
    "id": "VlucnsZdcP5K"
   },
   "outputs": [
    {
     "ename": "NameError",
     "evalue": "name 'df_30_40_married_3_no_outliers' is not defined",
     "output_type": "error",
     "traceback": [
      "\u001b[0;31m---------------------------------------------------------------------------\u001b[0m",
      "\u001b[0;31mNameError\u001b[0m                                 Traceback (most recent call last)",
      "Cell \u001b[0;32mIn[18], line 4\u001b[0m\n\u001b[1;32m      1\u001b[0m \u001b[38;5;66;03m# prompt: df_30_40_married_3_no_outliersを正規化し重回帰分析を行い、特徴重要度を可視化してください\u001b[39;00m\n\u001b[1;32m      2\u001b[0m \n\u001b[1;32m      3\u001b[0m \u001b[38;5;66;03m# 特徴量とターゲット変数の選択\u001b[39;00m\n\u001b[0;32m----> 4\u001b[0m X \u001b[38;5;241m=\u001b[39m \u001b[43mdf_30_40_married_3_no_outliers\u001b[49m\u001b[38;5;241m.\u001b[39mdrop(\u001b[38;5;124m'\u001b[39m\u001b[38;5;124m成約確度\u001b[39m\u001b[38;5;124m'\u001b[39m, axis\u001b[38;5;241m=\u001b[39m\u001b[38;5;241m1\u001b[39m)\n\u001b[1;32m      5\u001b[0m y \u001b[38;5;241m=\u001b[39m df_30_40_married_3_no_outliers[\u001b[38;5;124m'\u001b[39m\u001b[38;5;124m成約確度\u001b[39m\u001b[38;5;124m'\u001b[39m]\n\u001b[1;32m      7\u001b[0m \u001b[38;5;66;03m# データの正規化\u001b[39;00m\n",
      "\u001b[0;31mNameError\u001b[0m: name 'df_30_40_married_3_no_outliers' is not defined"
     ]
    }
   ],
   "source": [
    "# prompt: df_30_40_married_3_no_outliersを正規化し重回帰分析を行い、特徴重要度を可視化してください\n",
    "\n",
    "# 特徴量とターゲット変数の選択\n",
    "X = df_30_40_married_3_no_outliers.drop('成約確度', axis=1)\n",
    "y = df_30_40_married_3_no_outliers['成約確度']\n",
    "\n",
    "# データの正規化\n",
    "scaler = StandardScaler()\n",
    "X_scaled = scaler.fit_transform(X)\n",
    "\n",
    "# データの分割\n",
    "X_train, X_test, y_train, y_test = train_test_split(X_scaled, y, test_size=0.2, random_state=42)\n",
    "\n",
    "# 重回帰分析モデルの構築\n",
    "model = LinearRegression()\n",
    "model.fit(X_train, y_train)\n",
    "\n",
    "# 予測\n",
    "y_pred = model.predict(X_test)\n",
    "\n",
    "# モデル評価\n",
    "mse = mean_squared_error(y_test, y_pred)\n",
    "r2 = r2_score(y_test, y_pred)\n",
    "print(f\"平均二乗誤差 (MSE): {mse}\")\n",
    "print(f\"決定係数 (R^2): {r2}\")\n",
    "\n",
    "# 特徴量重要度の可視化\n",
    "feature_importance = pd.DataFrame({'特徴量': X.columns, '重要度': abs(model.coef_)})\n",
    "feature_importance = feature_importance.sort_values('重要度', ascending=False)\n",
    "\n",
    "plt.figure(figsize=(10, 6))\n",
    "sns.barplot(x='重要度', y='特徴量', data=feature_importance)\n",
    "plt.title('特徴量重要度')\n",
    "plt.xlabel('重要度（絶対値）')\n",
    "plt.ylabel('特徴量')\n",
    "plt.show()"
   ]
  },
  {
   "cell_type": "code",
   "execution_count": 19,
   "metadata": {
    "id": "h1dswyFXcaw6"
   },
   "outputs": [
    {
     "ename": "NameError",
     "evalue": "name 'df_30_40_married_3_no_outliers' is not defined",
     "output_type": "error",
     "traceback": [
      "\u001b[0;31m---------------------------------------------------------------------------\u001b[0m",
      "\u001b[0;31mNameError\u001b[0m                                 Traceback (most recent call last)",
      "Cell \u001b[0;32mIn[19], line 4\u001b[0m\n\u001b[1;32m      1\u001b[0m \u001b[38;5;66;03m# prompt: df_30_40_married_3_no_outliersの「持ち家の有無」列の割合を可視化してください\u001b[39;00m\n\u001b[1;32m      2\u001b[0m \n\u001b[1;32m      3\u001b[0m \u001b[38;5;66;03m# 持ち家の有無の割合を計算\u001b[39;00m\n\u001b[0;32m----> 4\u001b[0m homeownership_ratio \u001b[38;5;241m=\u001b[39m \u001b[43mdf_30_40_married_3_no_outliers\u001b[49m[\u001b[38;5;124m'\u001b[39m\u001b[38;5;124m持ち家の有無\u001b[39m\u001b[38;5;124m'\u001b[39m]\u001b[38;5;241m.\u001b[39mvalue_counts(normalize\u001b[38;5;241m=\u001b[39m\u001b[38;5;28;01mTrue\u001b[39;00m)\n\u001b[1;32m      6\u001b[0m \u001b[38;5;66;03m# 円グラフで可視化\u001b[39;00m\n\u001b[1;32m      7\u001b[0m plt\u001b[38;5;241m.\u001b[39mfigure(figsize\u001b[38;5;241m=\u001b[39m(\u001b[38;5;241m6\u001b[39m, \u001b[38;5;241m6\u001b[39m))\n",
      "\u001b[0;31mNameError\u001b[0m: name 'df_30_40_married_3_no_outliers' is not defined"
     ]
    }
   ],
   "source": [
    "# prompt: df_30_40_married_3_no_outliersの「持ち家の有無」列の割合を可視化してください\n",
    "\n",
    "# 持ち家の有無の割合を計算\n",
    "homeownership_ratio = df_30_40_married_3_no_outliers['持ち家の有無'].value_counts(normalize=True)\n",
    "\n",
    "# 円グラフで可視化\n",
    "plt.figure(figsize=(6, 6))\n",
    "plt.pie(homeownership_ratio, labels=homeownership_ratio.index, autopct='%1.1f%%', startangle=90)\n",
    "plt.title('30代40代既婚者（外れ値除去後）の持ち家の有無割合')\n",
    "plt.axis('equal')  # 円グラフを円形にする\n",
    "plt.show()"
   ]
  },
  {
   "cell_type": "code",
   "execution_count": 20,
   "metadata": {
    "id": "Wkhjiv41cmhk"
   },
   "outputs": [
    {
     "ename": "NameError",
     "evalue": "name 'pd' is not defined",
     "output_type": "error",
     "traceback": [
      "\u001b[0;31m---------------------------------------------------------------------------\u001b[0m",
      "\u001b[0;31mNameError\u001b[0m                                 Traceback (most recent call last)",
      "Cell \u001b[0;32mIn[20], line 4\u001b[0m\n\u001b[1;32m      1\u001b[0m \u001b[38;5;66;03m# prompt: df_30_40_married_3_no_outliersの持ち家の有無と成約確度の関係を集計してください\u001b[39;00m\n\u001b[1;32m      2\u001b[0m \n\u001b[1;32m      3\u001b[0m \u001b[38;5;66;03m# 持ち家の有無と成約確度の関係を集計\u001b[39;00m\n\u001b[0;32m----> 4\u001b[0m cross_table_homeownership \u001b[38;5;241m=\u001b[39m \u001b[43mpd\u001b[49m\u001b[38;5;241m.\u001b[39mcrosstab(df_30_40_married_3_no_outliers[\u001b[38;5;124m'\u001b[39m\u001b[38;5;124m持ち家の有無\u001b[39m\u001b[38;5;124m'\u001b[39m], df_30_40_married_3_no_outliers[\u001b[38;5;124m'\u001b[39m\u001b[38;5;124m成約確度\u001b[39m\u001b[38;5;124m'\u001b[39m])\n\u001b[1;32m      5\u001b[0m \u001b[38;5;28mprint\u001b[39m(cross_table_homeownership)\n\u001b[1;32m      7\u001b[0m \u001b[38;5;66;03m# ヒートマップで可視化\u001b[39;00m\n",
      "\u001b[0;31mNameError\u001b[0m: name 'pd' is not defined"
     ]
    }
   ],
   "source": [
    "# prompt: df_30_40_married_3_no_outliersの持ち家の有無と成約確度の関係を集計してください\n",
    "\n",
    "# 持ち家の有無と成約確度の関係を集計\n",
    "cross_table_homeownership = pd.crosstab(df_30_40_married_3_no_outliers['持ち家の有無'], df_30_40_married_3_no_outliers['成約確度'])\n",
    "print(cross_table_homeownership)\n",
    "\n",
    "# ヒートマップで可視化\n",
    "plt.figure(figsize=(8, 6))\n",
    "sns.heatmap(cross_table_homeownership, annot=True, fmt='d', cmap='viridis')\n",
    "plt.title('持ち家の有無と成約確度の関係（30-40代既婚者、外れ値除去後）')\n",
    "plt.xlabel('成約確度')\n",
    "plt.ylabel('持ち家の有無')\n",
    "plt.show()"
   ]
  },
  {
   "cell_type": "markdown",
   "metadata": {
    "id": "BDhtJGypc_A4"
   },
   "source": [
    "ターゲット→既婚者の年齢が３０−４０持ち家のある人をターゲットとして営業を行う\n",
    "\n",
    "\n",
    "住宅ローンとの連携：住宅ローン契約者向けに、連携した口座を開設すると金利が優遇される特典を提供する新たなキャンペーンの構築と案内\n",
    "例: 「住宅ローンとセットで新規口座開設すると金利0.1%引き下げ」。"
   ]
  },
  {
   "cell_type": "code",
   "execution_count": null,
   "metadata": {
    "id": "0jY4RAMKdHL_"
   },
   "outputs": [],
   "source": []
  },
  {
   "cell_type": "code",
   "execution_count": null,
   "metadata": {
    "id": "0s8Zhmw3czze"
   },
   "outputs": [],
   "source": []
  }
 ],
 "metadata": {
  "colab": {
   "private_outputs": true,
   "provenance": []
  },
  "kernelspec": {
   "display_name": "Python 3",
   "name": "python3"
  },
  "language_info": {
   "codemirror_mode": {
    "name": "ipython",
    "version": 3
   },
   "file_extension": ".py",
   "mimetype": "text/x-python",
   "name": "python",
   "nbconvert_exporter": "python",
   "pygments_lexer": "ipython3",
   "version": "3.12.2"
  }
 },
 "nbformat": 4,
 "nbformat_minor": 0
}
