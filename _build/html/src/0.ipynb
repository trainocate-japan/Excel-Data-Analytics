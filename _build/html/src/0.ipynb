{
 "cells": [
  {
   "cell_type": "markdown",
   "metadata": {},
   "source": [
    "# 〜研修へようこそ\n",
    "\n",
    "資料 URL:\n",
    "[Excelシート](img/講義用Excelシート.xlsx)\n",
    "\n",
    "[ホテルレビューデータ](img/ホテルレビュー.csv)\n",
    "\n",
    "\n"
   ]
  }
 ],
 "metadata": {
  "language_info": {
   "name": "python"
  }
 },
 "nbformat": 4,
 "nbformat_minor": 2
}
