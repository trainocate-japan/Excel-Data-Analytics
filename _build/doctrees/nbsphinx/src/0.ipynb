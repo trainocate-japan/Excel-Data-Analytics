{
 "cells": [
  {
   "cell_type": "markdown",
   "metadata": {},
   "source": [
    "# 〜研修へようこそ\n",
    "\n",
    "Zoom\n",
    "https://trainocate-japan.zoom.us/j/93573498191?pwd=DhFSL2dx1aqkjaruhSKlttaL7sbfli.1\n"
   ]
  }
 ],
 "metadata": {
  "language_info": {
   "name": "python"
  }
 },
 "nbformat": 4,
 "nbformat_minor": 2
}
