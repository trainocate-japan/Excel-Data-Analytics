{
 "cells": [
  {
   "cell_type": "markdown",
   "metadata": {},
   "source": [
    "# 〜研修へようこそ\n",
    "\n",
    "資料 URL:\n",
    "[Excelシート](img/最新_講義用Excelシート.xlsx)\n",
    "\n",
    "[ホテルレビューデータ](img/ホテルレビュー.csv)\n",
    "\n",
    "Zoom:https://trainocate-japan.zoom.us/j/98472537046?pwd=3kr8iKcypvfyqUkB5gtn8W7Og3FuJK.1\n",
    "\n"
   ]
  },
  {
   "cell_type": "markdown",
   "metadata": {},
   "source": []
  }
 ],
 "metadata": {
  "language_info": {
   "name": "python"
  }
 },
 "nbformat": 4,
 "nbformat_minor": 2
}
