{
 "cells": [
  {
   "cell_type": "markdown",
   "metadata": {},
   "source": [
    "# 〜研修へようこそ\n",
    "\n",
    "資料 URL:\n",
    "[Excelシート](img/講義用Excelシート.xlsx)\n",
    "\n",
    "[ホテルレビューデータ](img/ホテルレビュー.csv)\n",
    "\n",
    "\n",
    "\n",
    "\n",
    "https://trainocate-japan.zoom.us/j/98361017960?pwd=KLKXxo0NTyag1QRtzlxaagtTurwYgz.1"
   ]
  }
 ],
 "metadata": {
  "language_info": {
   "name": "python"
  }
 },
 "nbformat": 4,
 "nbformat_minor": 2
}
